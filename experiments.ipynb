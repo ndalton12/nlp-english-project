{
 "cells": [
  {
   "cell_type": "markdown",
   "metadata": {},
   "source": [
    "# Science in Culture\n",
    "This research project seeks to analyze the perception of science in culture. Techniques from NLP such as word embeddings (word2vec) and sentiment analysis are used."
   ]
  },
  {
   "cell_type": "markdown",
   "metadata": {},
   "source": [
    "## Reference Code\n",
    "1. https://github.com/RaRe-Technologies/gensim/blob/develop/docs/notebooks/word2vec.ipynb\n",
    "2. https://github.com/RaRe-Technologies/gensim/blob/ba1ce894a5192fc493a865c535202695bb3c0424/docs/notebooks/Word2Vec_FastText_Comparison.ipynb\n",
    "\n",
    "## Other references\n",
    "1.   Cámara, M., & A., J. (2012). Political dimensions of scientific culture: Highlights from the Ibero-American survey on the social perception of science and scientific culture. Public Understanding of Science, 21(3), 369–384. https://doi.org/10.1177/0963662510373871\n",
    "2. Jones, M. (2014). Cultural Characters and Climate Change: How Heroes Shape Our Perception of Climate Science. Social Science Quarterly, 95(1), 1-39.\n",
    "3. Ruest, Nick, 2017, \"#climatemarch tweets April 19-May 3, 2017\", https://doi.org/10.5683/SP/KZZVZW, Scholars Portal Dataverse, V1\n",
    "4. Ruest, Nick, 2017, \"#MarchForScience tweets April 12-26, 2017\", https://doi.org/10.5683/SP/7BC9V1, Scholars Portal Dataverse, V1\n",
    "5. http://www.nltk.org/nltk_data/ id: brown; size: 3314357; author: W. N. Francis and H. Kucera; copyright: ; license: May be used for non-commercial purposes.\n",
    "6. Salehan, Kim, & Lee. (2018). Are there any relationships between technology and cultural values? A country-level trend study of the association between information communication technology and cultural values. Information & Management, 55(6), 725-745.\n",
    "7. Vishwanath, A., & Chen, H. (2008). Personal communication technologies as an extension of the self: A cross‐cultural comparison of people's associations with technology and their symbolic proximity with others. Journal of the American Society for Information Science and Technology, 59(11), 1761-1775.\n",
    "\n"
   ]
  },
  {
   "cell_type": "markdown",
   "metadata": {},
   "source": [
    "## Imports"
   ]
  },
  {
   "cell_type": "code",
   "execution_count": 2,
   "metadata": {},
   "outputs": [],
   "source": [
    "import nltk\n",
    "from gensim.models import Word2Vec\n",
    "from gensim.models.word2vec import Text8Corpus\n",
    "import numpy as np\n",
    "from smart_open import smart_open\n",
    "import os"
   ]
  },
  {
   "cell_type": "markdown",
   "metadata": {},
   "source": [
    "## Training the models\n",
    "The data for this project is not included in this repository due to restrictions on Twitter data. The two datasets used in this project are the widely available Brown corpus and Twitter data relating to #ClimateMarch and #MarchForScience hashtags. Roughly two million tweets were hydrated using twarc."
   ]
  },
  {
   "cell_type": "code",
   "execution_count": 2,
   "metadata": {},
   "outputs": [],
   "source": [
    "# Only train if you don't want to use the pretained models\n",
    "params = {\n",
    "    'alpha': 0.05,\n",
    "    'size': 100,\n",
    "    'window': 5,\n",
    "    'iter': 5,\n",
    "    'min_count': 5,\n",
    "    'sample': 1e-4,\n",
    "    'sg': 1,\n",
    "    'hs': 0,\n",
    "    'negative': 5\n",
    "}"
   ]
  },
  {
   "cell_type": "code",
   "execution_count": 3,
   "metadata": {},
   "outputs": [],
   "source": [
    "brown_model = Word2Vec(Text8Corpus('data/brown_corp.txt'), **params)"
   ]
  },
  {
   "cell_type": "code",
   "execution_count": 4,
   "metadata": {},
   "outputs": [],
   "source": [
    "climate_model = Word2Vec(Text8Corpus('data/cleaned/climate_tweets_cleaned.txt'), **params)"
   ]
  },
  {
   "cell_type": "code",
   "execution_count": 5,
   "metadata": {},
   "outputs": [],
   "source": [
    "mfs_model = Word2Vec(Text8Corpus('data/cleaned/MarchForScience_tweets_cleaned.txt'), **params)"
   ]
  },
  {
   "cell_type": "markdown",
   "metadata": {},
   "source": [
    "## Saving and loading the models"
   ]
  },
  {
   "cell_type": "code",
   "execution_count": 4,
   "metadata": {},
   "outputs": [],
   "source": [
    "# File paths -> required by saving/loading methods\n",
    "brown_path = \"models/brown_model.bin\"\n",
    "brown_vec = \"models/vectors/brown_vec.kv\"\n",
    "brown_name = \"models/vectors/brown\"\n",
    "\n",
    "climate_path = \"models/climate_model.bin\"\n",
    "climate_vec = \"models/vectors/climate_vec.kv\"\n",
    "climate_name = \"models/vectors/climate\"\n",
    "\n",
    "mfs_path = \"models/mfs_model.bin\"\n",
    "mfs_vec = \"models/vectors/mfs_vec.kv\"\n",
    "mfs_name = \"models/vectors/mfs\""
   ]
  },
  {
   "cell_type": "code",
   "execution_count": 6,
   "metadata": {},
   "outputs": [],
   "source": [
    "# Saving models\n",
    "brown_model.save(brown_path)\n",
    "climate_model.save(climate_path)\n",
    "mfs_model.save(mfs_path)"
   ]
  },
  {
   "cell_type": "code",
   "execution_count": 309,
   "metadata": {},
   "outputs": [],
   "source": [
    "# Edited from gensim/scripts\n",
    "def word2vec2tensor(word2vec_model_path, tensor_filename, binary=False):\n",
    "    \"\"\"Convert file in Word2Vec format and writes two files 2D tensor TSV file.\n",
    "    File \"tensor_filename\"_tensor.tsv contains word-vectors, \"tensor_filename\"_metadata.tsv contains words.\n",
    "    Parameters\n",
    "    ----------\n",
    "    word2vec_model_path : str\n",
    "        Path to file in Word2Vec format.\n",
    "    tensor_filename : str\n",
    "        Prefix for output files.\n",
    "    binary : bool, optional\n",
    "        True if input file in binary format.\n",
    "    \"\"\"\n",
    "    model = gensim.models.KeyedVectors.load(word2vec_model_path, mmap='r')\n",
    "    outfiletsv = tensor_filename + '_tensor.tsv'\n",
    "    outfiletsvmeta = tensor_filename + '_metadata.tsv'\n",
    "\n",
    "    with smart_open(outfiletsv, 'wb') as file_vector, smart_open(outfiletsvmeta, 'wb') as file_metadata:\n",
    "        for word in model.index2word:\n",
    "            file_metadata.write(gensim.utils.to_utf8(word) + gensim.utils.to_utf8('\\n'))\n",
    "            vector_row = '\\t'.join(str(x) for x in model[word])\n",
    "            file_vector.write(gensim.utils.to_utf8(vector_row) + gensim.utils.to_utf8('\\n'))\n",
    "\n",
    "    print(\"2D tensor file saved to %s\", outfiletsv)\n",
    "    print(\"Tensor metadata file saved to %s\", outfiletsvmeta)"
   ]
  },
  {
   "cell_type": "code",
   "execution_count": 311,
   "metadata": {},
   "outputs": [
    {
     "name": "stdout",
     "output_type": "stream",
     "text": [
      "2D tensor file saved to %s models/vectors/brown_tensor.tsv\n",
      "Tensor metadata file saved to %s models/vectors/brown_metadata.tsv\n",
      "2D tensor file saved to %s models/vectors/climate_tensor.tsv\n",
      "Tensor metadata file saved to %s models/vectors/climate_metadata.tsv\n",
      "2D tensor file saved to %s models/vectors/mfs_tensor.tsv\n",
      "Tensor metadata file saved to %s models/vectors/mfs_metadata.tsv\n"
     ]
    }
   ],
   "source": [
    "# Saving vectors\n",
    "brown_model.wv.save(brown_vec)\n",
    "word2vec2tensor(brown_vec, brown_name)\n",
    "\n",
    "climate_model.wv.save(climate_vec)\n",
    "word2vec2tensor(climate_vec, climate_name)\n",
    "\n",
    "mfs_model.wv.save(mfs_vec)\n",
    "word2vec2tensor(mfs_vec, mfs_name)"
   ]
  },
  {
   "cell_type": "code",
   "execution_count": 5,
   "metadata": {},
   "outputs": [],
   "source": [
    "# Loading models\n",
    "brown_model = Word2Vec.load(brown_path)\n",
    "climate_model = Word2Vec.load(climate_path)\n",
    "mfs_model = Word2Vec.load(mfs_path)"
   ]
  },
  {
   "cell_type": "markdown",
   "metadata": {},
   "source": [
    "## Evaluating the models\n",
    "Let's do some basic tests of cosine similarity."
   ]
  },
  {
   "cell_type": "code",
   "execution_count": 22,
   "metadata": {},
   "outputs": [
    {
     "data": {
      "text/plain": [
       "[('dwell', 0.9033710956573486),\n",
       " ('humanity', 0.8990538716316223),\n",
       " ('divine', 0.8985900282859802),\n",
       " ('obedience', 0.8958655595779419),\n",
       " ('virtue', 0.8896442651748657),\n",
       " ('invention', 0.885993242263794),\n",
       " ('doctrine', 0.8842350244522095),\n",
       " ('judgments', 0.8829445838928223),\n",
       " ('Utopian', 0.8806315064430237),\n",
       " ('profound', 0.8802723288536072)]"
      ]
     },
     "execution_count": 22,
     "metadata": {},
     "output_type": "execute_result"
    }
   ],
   "source": [
    "brown_model.wv.most_similar(positive=['science', 'fear'], topn=10)"
   ]
  },
  {
   "cell_type": "code",
   "execution_count": 24,
   "metadata": {},
   "outputs": [
    {
     "data": {
      "text/plain": [
       "[('Libs', 0.7004995346069336),\n",
       " ('oceans', 0.6837355494499207),\n",
       " ('might', 0.6310517191886902),\n",
       " ('Hiding', 0.6045321226119995),\n",
       " ('lab.', 0.5913923978805542),\n",
       " ('peacefully', 0.5868384838104248),\n",
       " ('backing', 0.5676073431968689),\n",
       " ('Muslims', 0.5611160397529602),\n",
       " ('NY', 0.5599805116653442),\n",
       " ('magically', 0.5589848756790161)]"
      ]
     },
     "execution_count": 24,
     "metadata": {},
     "output_type": "execute_result"
    }
   ],
   "source": [
    "climate_model.wv.most_similar(positive=['science', 'fear'], topn=10)"
   ]
  },
  {
   "cell_type": "code",
   "execution_count": 55,
   "metadata": {},
   "outputs": [
    {
     "data": {
      "text/plain": [
       "[('MC…', 0.6706839799880981),\n",
       " ('enterprise', 0.6391789317131042),\n",
       " ('ignorance…', 0.6318367123603821),\n",
       " ('triumph', 0.5998080968856812),\n",
       " ('open,', 0.5971928834915161),\n",
       " ('stay!', 0.5955246090888977),\n",
       " ('facets', 0.5903943777084351),\n",
       " ('protesting,', 0.5866920948028564),\n",
       " ('represses', 0.5861929655075073),\n",
       " ('less\"', 0.5806410312652588)]"
      ]
     },
     "execution_count": 55,
     "metadata": {},
     "output_type": "execute_result"
    }
   ],
   "source": [
    "mfs_model.wv.most_similar(positive=['science', 'fear'], topn=10)"
   ]
  },
  {
   "cell_type": "code",
   "execution_count": 49,
   "metadata": {},
   "outputs": [
    {
     "data": {
      "text/plain": [
       "[('science', 0.0006998557),\n",
       " ('philosophy', 0.0006726175),\n",
       " ('fear', 0.00059489015),\n",
       " ('mind', 0.0005511252),\n",
       " ('religion', 0.0005273468),\n",
       " ('pure', 0.00047090003),\n",
       " ('importance', 0.00046973577),\n",
       " ('feelings', 0.00046481914),\n",
       " ('poems', 0.00046039498),\n",
       " ('poetic', 0.0004552021)]"
      ]
     },
     "execution_count": 49,
     "metadata": {},
     "output_type": "execute_result"
    }
   ],
   "source": [
    "brown_model.predict_output_word(['fear', 'science'])"
   ]
  },
  {
   "cell_type": "code",
   "execution_count": 48,
   "metadata": {},
   "outputs": [
    {
     "data": {
      "text/plain": [
       "[('science', 0.014418488),\n",
       " ('rise.', 0.0102302795),\n",
       " ('might', 0.006852584),\n",
       " ('oceans', 0.0046408046),\n",
       " ('Muslims', 0.0039983448),\n",
       " ('declaring', 0.0037104057),\n",
       " (\"We'll\", 0.0035391354),\n",
       " ('fear', 0.0023272592),\n",
       " ('But', 0.0021787095),\n",
       " ('inaugurati…', 0.0019829252)]"
      ]
     },
     "execution_count": 48,
     "metadata": {},
     "output_type": "execute_result"
    }
   ],
   "source": [
    "climate_model.predict_output_word(['fear', 'science'])"
   ]
  },
  {
   "cell_type": "code",
   "execution_count": 54,
   "metadata": {},
   "outputs": [
    {
     "data": {
      "text/plain": [
       "[('fear', 0.022886122),\n",
       " ('ignorance…', 0.002145881),\n",
       " ('less\"', 0.0015034123),\n",
       " ('Saturday', 0.0010085657),\n",
       " ('benefit', 0.0010045078),\n",
       " ('truth.', 0.00093975145),\n",
       " ('ignorance,', 0.00078472577),\n",
       " ('society', 0.0007797721),\n",
       " ('role', 0.0007566012),\n",
       " ('knowledge', 0.00072946213)]"
      ]
     },
     "execution_count": 54,
     "metadata": {},
     "output_type": "execute_result"
    }
   ],
   "source": [
    "mfs_model.predict_output_word(['science', 'fear'])"
   ]
  },
  {
   "cell_type": "markdown",
   "metadata": {},
   "source": [
    "## Analysis\n",
    "Let's analyze the models to see what we can discern about the differences in culture between these three models."
   ]
  },
  {
   "cell_type": "markdown",
   "metadata": {},
   "source": [
    "### Visualization"
   ]
  },
  {
   "cell_type": "markdown",
   "metadata": {},
   "source": [
    "Visualizing word vectors is done with Embedding Projector, a tool from the team at TensorFlow. Gephi is also used to generate network visualizations, and finally Scattertext is used for visualizing sentiment. The relevant figures can be found in the images folder.\n",
    "\n",
    "Here is the link for the embedding projection of climate data: https://projector.tensorflow.org/?config=https://raw.githubusercontent.com/ndalton12/nlp-english-project/master/json/climate_config.json\n"
   ]
  },
  {
   "cell_type": "markdown",
   "metadata": {},
   "source": [
    "### KMeans Clustering"
   ]
  },
  {
   "cell_type": "code",
   "execution_count": 9,
   "metadata": {},
   "outputs": [
    {
     "name": "stderr",
     "output_type": "stream",
     "text": [
      "/home/niall/.local/lib/python3.6/site-packages/ipykernel_launcher.py:4: DeprecationWarning: Call to deprecated `__getitem__` (Method will be removed in 4.0.0, use self.wv.__getitem__() instead).\n",
      "  after removing the cwd from sys.path.\n",
      "/home/niall/.local/lib/python3.6/site-packages/ipykernel_launcher.py:5: DeprecationWarning: Call to deprecated `__getitem__` (Method will be removed in 4.0.0, use self.wv.__getitem__() instead).\n",
      "  \"\"\"\n",
      "/home/niall/.local/lib/python3.6/site-packages/ipykernel_launcher.py:6: DeprecationWarning: Call to deprecated `__getitem__` (Method will be removed in 4.0.0, use self.wv.__getitem__() instead).\n",
      "  \n"
     ]
    }
   ],
   "source": [
    "from sklearn import cluster\n",
    "\n",
    "X_b = brown_model[brown_model.wv.vocab]\n",
    "X_c = climate_model[climate_model.wv.vocab]\n",
    "X_m = mfs_model[mfs_model.wv.vocab]\n",
    "NUM_CLUSTERS = 100"
   ]
  },
  {
   "cell_type": "code",
   "execution_count": 10,
   "metadata": {},
   "outputs": [],
   "source": [
    "kmeans_b = cluster.KMeans(n_clusters=NUM_CLUSTERS)\n",
    "kmeans_c = cluster.KMeans(n_clusters=NUM_CLUSTERS)\n",
    "kmeans_m = cluster.KMeans(n_clusters=NUM_CLUSTERS)"
   ]
  },
  {
   "cell_type": "code",
   "execution_count": 11,
   "metadata": {},
   "outputs": [
    {
     "data": {
      "text/plain": [
       "KMeans(algorithm='auto', copy_x=True, init='k-means++', max_iter=300,\n",
       "    n_clusters=100, n_init=10, n_jobs=None, precompute_distances='auto',\n",
       "    random_state=None, tol=0.0001, verbose=0)"
      ]
     },
     "execution_count": 11,
     "metadata": {},
     "output_type": "execute_result"
    }
   ],
   "source": [
    "kmeans_b.fit(X_b)\n",
    "kmeans_c.fit(X_c)\n",
    "kmeans_m.fit(X_m)"
   ]
  },
  {
   "cell_type": "code",
   "execution_count": 41,
   "metadata": {},
   "outputs": [],
   "source": [
    "labels_b = kmeans_b.labels_\n",
    "labels_c = kmeans_c.labels_\n",
    "labels_m = kmeans_m.labels_"
   ]
  },
  {
   "cell_type": "code",
   "execution_count": 37,
   "metadata": {},
   "outputs": [],
   "source": [
    "# From Douglas Duhaime\n",
    "\n",
    "class autovivify_list(dict):\n",
    "  '''A pickleable version of collections.defaultdict'''\n",
    "  def __missing__(self, key):\n",
    "    '''Given a missing key, set initial value to an empty list'''\n",
    "    value = self[key] = []\n",
    "    return value\n",
    "\n",
    "  def __add__(self, x):\n",
    "    '''Override addition for numeric types when self is empty'''\n",
    "    if not self and isinstance(x, Number):\n",
    "      return x\n",
    "    raise ValueError\n",
    "\n",
    "  def __sub__(self, x):\n",
    "    '''Also provide subtraction method'''\n",
    "    if not self and isinstance(x, Number):\n",
    "      return -1 * x\n",
    "    raise ValueError\n",
    "    \n",
    "def find_word_clusters(labels_array, cluster_labels):\n",
    "  cluster_to_words = autovivify_list()\n",
    "  for c, i in enumerate(cluster_labels):\n",
    "    cluster_to_words[ i ].append( labels_array[c] )\n",
    "  return cluster_to_words"
   ]
  },
  {
   "cell_type": "code",
   "execution_count": 42,
   "metadata": {},
   "outputs": [],
   "source": [
    "clusters_b = find_word_clusters(list(brown_model.wv.vocab.keys()),labels_b);\n",
    "clusters_c = find_word_clusters(list(climate_model.wv.vocab.keys()),labels_c);\n",
    "clusters_m = find_word_clusters(list(mfs_model.wv.vocab.keys()),labels_m);"
   ]
  },
  {
   "cell_type": "code",
   "execution_count": 50,
   "metadata": {},
   "outputs": [
    {
     "name": "stdout",
     "output_type": "stream",
     "text": [
      "brown:  ['purchasing', 'departments', 'personnel', 'provide', 'funds', 'services', 'assistance', 'program', 'management', 'medical']\n",
      "climate:  ['leave', 'behind', 'left', 'where', 'tons', 'cover', 'pile', 'garbage', 'remember', 'signs.']\n",
      "mfs:  ['Together', 'Side', 'FACT:', 'exonerated', 'post-conviction', 'DNA.', 'stop?', 'court!', 'soon,', 'builders.']\n",
      "\n",
      "brown:  ['many', 'other', 'among', 'servants', 'were', 'friendly', 'begin', 'most', 'While', 'sessions']\n",
      "climate:  ['ALREADY', 'US.', \"Solar's\", 'putting', 'trending', 'top', 'Why?', 'topic', 'Miami', 'vs']\n",
      "mfs:  [\"don't\", \"That's\", 'were', 'just', 'trying', 'know', 'disposing', 'shit', 'him', 'if']\n",
      "\n",
      "brown:  ['produced', 'number', 'items', ':', 'employed', '71', 'according', 'each', 'names', 'test']\n",
      "climate:  ['you', 'your', 'gonna', 'Which', 'How', 'or', 'Are', 'much', 'D.C.?', 'during']\n",
      "mfs:  ['United', 'States', 'even', 'advancements,', 'live.\"', 'Lawrence', 'Krauss,', 'theoretical', 'physicist', \"They're\"]\n",
      "\n",
      "brown:  ['Bar', 'Berry', 'resignation', 'Marvin', 'Jones', 'Schwartz', 'Paradise', 'La', 'Collins', 'Chapman']\n",
      "climate:  ['clean', 'water', 'again.', 'water.', 'food', 'dairy', 'assault', 'land.', 'ceremony!', 'requires']\n",
      "mfs:  ['my', 'poster', 'dog', 'speak.', 'Mae', 'My', 'dinosaurs', 'Bannon', 'representing', 'Beaker']\n",
      "\n",
      "brown:  ['often', 'have', 'well', 'best', 'so', 'all', 'they', 'very', 'worth', 'ones']\n",
      "climate:  ['can', 'When', 'stake', 'remain', 'Stand', 'do', 'woken', 'Up!', \"won't,\", 'it?']\n",
      "mfs:  ['air', 'lives', 'development', 'protecting', 'planet', 'create', 'join…', \"people's\", 'planet,', 'clean']\n",
      "\n",
      "brown:  [',', 'was', 'a', 'When', 'soon', 'missing', 'meager', 'fare', 'kept', \"boy's\"]\n",
      "climate:  ['AM', 'Center', 'Dept', 'website:', 'East', 'tonight', 'PM', 'du', 'Mont-Blanc,', 'Mont-Blanc.']\n",
      "mfs:  ['House', 'ignoring', 'Bill', 'Nye', 'world!’:', 'Nye’s', 'barn', 'burner', 'occupant', 'White']\n",
      "\n",
      "brown:  ['the', 'and', 'picking', 'pointed', 'pockets', 'laid', 'beating', 'glow', 'lip', 'filled']\n",
      "climate:  ['land', 'species', 'poles', 'ocean', 'Carbon', 'animal', 'ice', 'extinction', 'due', 'agriculture']\n",
      "mfs:  ['at', 'recorded', 'George', 'closed', 'booth', 'Bowlin', 'Woods', 'quad', 'of…', 'w']\n",
      "\n",
      "brown:  ['experienced', 'mental', 'strong', 'race', 'enthusiasm', 'become', 'violence', 'kind', 'learning', 'serious']\n",
      "climate:  ['legislation', 'stark', 'reminder', 'has', 'ask', 'launched', 'all-out', 'promises', 'millions', 'scientist']\n",
      "mfs:  ['to', 'are', 'is', 'will', 'up', 'in', 'this', 'the', 'and', 'on']\n",
      "\n",
      "brown:  ['investigate', 'Police', 'Grady', 'Hartsfield', 'filed', 'petition', '1913', 'Ala.', 'Pelham', '1937']\n",
      "climate:  ['but', 'cows', 'produces', 'New', 'partners', 'Oh,', 'ride', 'York', 'sold', 'send']\n",
      "mfs:  ['most', 'recent', 'Resolution,', 'But', 'protest', 'these', 'celebration', 'ever.', 'Most', 'perfect']\n",
      "\n",
      "brown:  ['should', 'take', 'future', 'will', 'continue', 'protect', 'work', 'make', 'offer', 'seek']\n",
      "climate:  ['scientists', 'Now', 'rest', 'world.', 'into', 'it’s', 'run', 'helped', 'there’s', 'come']\n",
      "mfs:  ['Water', 'Public', 'Protests', 'Repudiation', 'By', 'firing', 'Silent', 'Diseases', 'Life', 'Nuclear']\n",
      "\n"
     ]
    }
   ],
   "source": [
    "for i in range(10):\n",
    "    print(\"brown: \", clusters_b[i][0:10])\n",
    "    print(\"climate: \", clusters_c[i][0:10])\n",
    "    print(\"mfs: \",clusters_m[i][0:10])\n",
    "    print()"
   ]
  },
  {
   "cell_type": "markdown",
   "metadata": {},
   "source": [
    "### Predictive text"
   ]
  },
  {
   "cell_type": "code",
   "execution_count": 1,
   "metadata": {},
   "outputs": [],
   "source": [
    "from fastai import *\n",
    "from fastai.text import * "
   ]
  },
  {
   "cell_type": "code",
   "execution_count": 189,
   "metadata": {},
   "outputs": [],
   "source": [
    "path = 'data/cleaned/'"
   ]
  },
  {
   "cell_type": "code",
   "execution_count": 115,
   "metadata": {},
   "outputs": [],
   "source": [
    "data_climate = TextLMDataBunch.from_csv(path, 'climate_csv.csv')"
   ]
  },
  {
   "cell_type": "code",
   "execution_count": null,
   "metadata": {},
   "outputs": [],
   "source": [
    "data_brown = TextLMDataBunch.from_csv(path, 'brown_csv.csv')"
   ]
  },
  {
   "cell_type": "code",
   "execution_count": 313,
   "metadata": {},
   "outputs": [],
   "source": [
    "date_mfs = TextLMDataBunch.from_csv(path, 'mfs_csv.csv')"
   ]
  },
  {
   "cell_type": "code",
   "execution_count": 116,
   "metadata": {},
   "outputs": [],
   "source": [
    "learn = language_model_learner(data_climate, pretrained_model=URLs.WT103, drop_mult=0.5)"
   ]
  },
  {
   "cell_type": "code",
   "execution_count": 117,
   "metadata": {},
   "outputs": [
    {
     "name": "stdout",
     "output_type": "stream",
     "text": [
      "Total time: 3:22:57\n",
      "epoch  train_loss  valid_loss  accuracy\n",
      "1      1.991627    2.713907    0.520528  (3:22:57)\n",
      "\n"
     ]
    }
   ],
   "source": [
    "learn.fit_one_cycle(1, 1e-2)"
   ]
  },
  {
   "cell_type": "code",
   "execution_count": 266,
   "metadata": {},
   "outputs": [
    {
     "name": "stdout",
     "output_type": "stream",
     "text": [
      "Total time: 00:00\n",
      "\n"
     ]
    },
    {
     "data": {
      "text/plain": [
       "'Technology is not interested in danger ,'"
      ]
     },
     "execution_count": 266,
     "metadata": {},
     "output_type": "execute_result"
    }
   ],
   "source": [
    "learn.predict(\"Technology is\", n_words=5)"
   ]
  },
  {
   "cell_type": "code",
   "execution_count": 188,
   "metadata": {},
   "outputs": [],
   "source": [
    "learn.save_encoder('climate_enc')"
   ]
  },
  {
   "cell_type": "code",
   "execution_count": null,
   "metadata": {},
   "outputs": [],
   "source": []
  }
 ],
 "metadata": {
  "kernelspec": {
   "display_name": "Python 3",
   "language": "python",
   "name": "python3"
  },
  "language_info": {
   "codemirror_mode": {
    "name": "ipython",
    "version": 3
   },
   "file_extension": ".py",
   "mimetype": "text/x-python",
   "name": "python",
   "nbconvert_exporter": "python",
   "pygments_lexer": "ipython3",
   "version": "3.6.6"
  }
 },
 "nbformat": 4,
 "nbformat_minor": 2
}
