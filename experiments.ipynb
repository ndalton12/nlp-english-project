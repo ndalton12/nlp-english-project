{
 "cells": [
  {
   "cell_type": "markdown",
   "metadata": {},
   "source": [
    "# Science in Culture\n",
    "This research project seeks to analyze the perception of science in culture. Techniques from NLP such as word embeddings (word2vec) and sentiment analysis are used."
   ]
  },
  {
   "cell_type": "markdown",
   "metadata": {},
   "source": [
    "## Reference Code\n",
    "1. https://github.com/RaRe-Technologies/gensim/blob/develop/docs/notebooks/word2vec.ipynb\n",
    "2. https://github.com/RaRe-Technologies/gensim/blob/ba1ce894a5192fc493a865c535202695bb3c0424/docs/notebooks/Word2Vec_FastText_Comparison.ipynb\n",
    "\n",
    "## Other references\n",
    "1.   Cámara, M., & A., J. (2012). Political dimensions of scientific culture: Highlights from the Ibero-American survey on the social perception of science and scientific culture. Public Understanding of Science, 21(3), 369–384. https://doi.org/10.1177/0963662510373871\n",
    "2. Jones, M. (2014). Cultural Characters and Climate Change: How Heroes Shape Our Perception of Climate Science. Social Science Quarterly, 95(1), 1-39.\n",
    "3. Ruest, Nick, 2017, \"#climatemarch tweets April 19-May 3, 2017\", https://doi.org/10.5683/SP/KZZVZW, Scholars Portal Dataverse, V1\n",
    "4. Ruest, Nick, 2017, \"#MarchForScience tweets April 12-26, 2017\", https://doi.org/10.5683/SP/7BC9V1, Scholars Portal Dataverse, V1\n",
    "5. http://www.nltk.org/nltk_data/ id: brown; size: 3314357; author: W. N. Francis and H. Kucera; copyright: ; license: May be used for non-commercial purposes.\n",
    "6. Salehan, Kim, & Lee. (2018). Are there any relationships between technology and cultural values? A country-level trend study of the association between information communication technology and cultural values. Information & Management, 55(6), 725-745.\n",
    "7. Vishwanath, A., & Chen, H. (2008). Personal communication technologies as an extension of the self: A cross‐cultural comparison of people's associations with technology and their symbolic proximity with others. Journal of the American Society for Information Science and Technology, 59(11), 1761-1775.\n",
    "\n"
   ]
  },
  {
   "cell_type": "markdown",
   "metadata": {},
   "source": [
    "## Imports"
   ]
  },
  {
   "cell_type": "code",
   "execution_count": 10,
   "metadata": {},
   "outputs": [],
   "source": [
    "import nltk\n",
    "from gensim.models import Word2Vec\n",
    "from gensim.models.word2vec import Text8Corpus\n",
    "import numpy as np\n",
    "import smart_open, os"
   ]
  },
  {
   "cell_type": "markdown",
   "metadata": {},
   "source": [
    "## Training the models\n",
    "The data for this project is not included in this repository due to restrictions on Twitter data. The two datasets used in this project are the widely available Brown corpus and Twitter data relating to #ClimateMarch and #MarchForScience hashtags. Roughly two million tweets were hydrated using twarc."
   ]
  },
  {
   "cell_type": "code",
   "execution_count": 20,
   "metadata": {},
   "outputs": [],
   "source": [
    "params = {\n",
    "    'alpha': 0.05,\n",
    "    'size': 100,\n",
    "    'window': 5,\n",
    "    'iter': 5,\n",
    "    'min_count': 5,\n",
    "    'sample': 1e-4,\n",
    "    'sg': 1,\n",
    "    'hs': 0,\n",
    "    'negative': 5\n",
    "}\n",
    "\n",
    "brown_model = Word2Vec(Text8Corpus('data/brown_corp.txt'), **params)"
   ]
  },
  {
   "cell_type": "code",
   "execution_count": 30,
   "metadata": {},
   "outputs": [],
   "source": [
    "climate_model = Word2Vec(Text8Corpus('data/cleaned/climate_tweets_cleaned.txt'), **params)"
   ]
  },
  {
   "cell_type": "code",
   "execution_count": 50,
   "metadata": {},
   "outputs": [],
   "source": [
    "mfs_model = Word2Vec(Text8Corpus('data/cleaned/MarchForScience_tweets_cleaned.txt'), **params)"
   ]
  },
  {
   "cell_type": "markdown",
   "metadata": {},
   "source": [
    "## Evaluating the models\n",
    "Let's do some basic tests of cosine similarity."
   ]
  },
  {
   "cell_type": "code",
   "execution_count": 42,
   "metadata": {},
   "outputs": [
    {
     "data": {
      "text/plain": [
       "[('Utopian', 0.910775899887085),\n",
       " ('virtue', 0.9025671482086182),\n",
       " ('humanity', 0.8978033065795898),\n",
       " ('injustice', 0.8942326307296753),\n",
       " ('superior', 0.8850595951080322),\n",
       " ('instinct', 0.8850191235542297),\n",
       " ('legends', 0.8841550946235657),\n",
       " ('profound', 0.8839781880378723),\n",
       " ('heroic', 0.8820221424102783),\n",
       " ('erotic', 0.8816669583320618)]"
      ]
     },
     "execution_count": 42,
     "metadata": {},
     "output_type": "execute_result"
    }
   ],
   "source": [
    "brown_model.wv.most_similar(positive=['science', 'fear'], topn=10)"
   ]
  },
  {
   "cell_type": "code",
   "execution_count": 41,
   "metadata": {},
   "outputs": [
    {
     "data": {
      "text/plain": [
       "[('Libs', 0.696629524230957),\n",
       " ('oceans', 0.6743819117546082),\n",
       " ('might', 0.6427975296974182),\n",
       " ('peacefully', 0.5920714735984802),\n",
       " ('Muslims', 0.5760078430175781),\n",
       " ('NY', 0.5724131464958191),\n",
       " ('Hiding', 0.5645971298217773),\n",
       " ('Hi', 0.55558842420578),\n",
       " ('rise.', 0.5526690483093262),\n",
       " ('chalkboard', 0.5496262311935425)]"
      ]
     },
     "execution_count": 41,
     "metadata": {},
     "output_type": "execute_result"
    }
   ],
   "source": [
    "climate_model.wv.most_similar(positive=['science', 'fear'], topn=10)"
   ]
  },
  {
   "cell_type": "code",
   "execution_count": 55,
   "metadata": {},
   "outputs": [
    {
     "data": {
      "text/plain": [
       "[('MC…', 0.6706839799880981),\n",
       " ('enterprise', 0.6391789317131042),\n",
       " ('ignorance…', 0.6318367123603821),\n",
       " ('triumph', 0.5998080968856812),\n",
       " ('open,', 0.5971928834915161),\n",
       " ('stay!', 0.5955246090888977),\n",
       " ('facets', 0.5903943777084351),\n",
       " ('protesting,', 0.5866920948028564),\n",
       " ('represses', 0.5861929655075073),\n",
       " ('less\"', 0.5806410312652588)]"
      ]
     },
     "execution_count": 55,
     "metadata": {},
     "output_type": "execute_result"
    }
   ],
   "source": [
    "mfs_model.wv.most_similar(positive=['science', 'fear'], topn=10)"
   ]
  },
  {
   "cell_type": "code",
   "execution_count": 49,
   "metadata": {},
   "outputs": [
    {
     "data": {
      "text/plain": [
       "[('science', 0.0006998557),\n",
       " ('philosophy', 0.0006726175),\n",
       " ('fear', 0.00059489015),\n",
       " ('mind', 0.0005511252),\n",
       " ('religion', 0.0005273468),\n",
       " ('pure', 0.00047090003),\n",
       " ('importance', 0.00046973577),\n",
       " ('feelings', 0.00046481914),\n",
       " ('poems', 0.00046039498),\n",
       " ('poetic', 0.0004552021)]"
      ]
     },
     "execution_count": 49,
     "metadata": {},
     "output_type": "execute_result"
    }
   ],
   "source": [
    "brown_model.predict_output_word(['fear', 'science'])"
   ]
  },
  {
   "cell_type": "code",
   "execution_count": 48,
   "metadata": {},
   "outputs": [
    {
     "data": {
      "text/plain": [
       "[('science', 0.014418488),\n",
       " ('rise.', 0.0102302795),\n",
       " ('might', 0.006852584),\n",
       " ('oceans', 0.0046408046),\n",
       " ('Muslims', 0.0039983448),\n",
       " ('declaring', 0.0037104057),\n",
       " (\"We'll\", 0.0035391354),\n",
       " ('fear', 0.0023272592),\n",
       " ('But', 0.0021787095),\n",
       " ('inaugurati…', 0.0019829252)]"
      ]
     },
     "execution_count": 48,
     "metadata": {},
     "output_type": "execute_result"
    }
   ],
   "source": [
    "climate_model.predict_output_word(['fear', 'science'])"
   ]
  },
  {
   "cell_type": "code",
   "execution_count": 54,
   "metadata": {},
   "outputs": [
    {
     "data": {
      "text/plain": [
       "[('fear', 0.022886122),\n",
       " ('ignorance…', 0.002145881),\n",
       " ('less\"', 0.0015034123),\n",
       " ('Saturday', 0.0010085657),\n",
       " ('benefit', 0.0010045078),\n",
       " ('truth.', 0.00093975145),\n",
       " ('ignorance,', 0.00078472577),\n",
       " ('society', 0.0007797721),\n",
       " ('role', 0.0007566012),\n",
       " ('knowledge', 0.00072946213)]"
      ]
     },
     "execution_count": 54,
     "metadata": {},
     "output_type": "execute_result"
    }
   ],
   "source": [
    "mfs_model.predict_output_word(['science', 'fear'])"
   ]
  },
  {
   "cell_type": "markdown",
   "metadata": {},
   "source": [
    "## Analysis\n",
    "Let's analyze the models to see what we can discern about the differences in culture between these three models."
   ]
  },
  {
   "cell_type": "code",
   "execution_count": null,
   "metadata": {},
   "outputs": [],
   "source": []
  }
 ],
 "metadata": {
  "kernelspec": {
   "display_name": "Python 3",
   "language": "python",
   "name": "python3"
  },
  "language_info": {
   "codemirror_mode": {
    "name": "ipython",
    "version": 3
   },
   "file_extension": ".py",
   "mimetype": "text/x-python",
   "name": "python",
   "nbconvert_exporter": "python",
   "pygments_lexer": "ipython3",
   "version": "3.6.6"
  }
 },
 "nbformat": 4,
 "nbformat_minor": 2
}
